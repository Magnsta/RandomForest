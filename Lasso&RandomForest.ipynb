{
  "nbformat": 4,
  "nbformat_minor": 0,
  "metadata": {
    "colab": {
      "name": "Lasso&RandomForest.ipynb",
      "private_outputs": true,
      "provenance": [],
      "collapsed_sections": [],
      "authorship_tag": "ABX9TyNtHONcur3KXsJHuOOfeE9A",
      "include_colab_link": true
    },
    "kernelspec": {
      "name": "python3",
      "display_name": "Python 3"
    },
    "language_info": {
      "name": "python"
    },
    "accelerator": "GPU"
  },
  "cells": [
    {
      "cell_type": "markdown",
      "metadata": {
        "id": "view-in-github",
        "colab_type": "text"
      },
      "source": [
        "<a href=\"https://colab.research.google.com/github/Magnsta/RandomForest/blob/main/Lasso%26RandomForest.ipynb\" target=\"_parent\"><img src=\"https://colab.research.google.com/assets/colab-badge.svg\" alt=\"Open In Colab\"/></a>"
      ]
    },
    {
      "cell_type": "code",
      "execution_count": null,
      "metadata": {
        "id": "vFql424gWXXB"
      },
      "outputs": [],
      "source": [
        "import pandas as pd\n",
        "import numpy as np\n",
        "import matplotlib.pyplot as plt\n",
        "import seaborn as sns\n",
        "import math\n",
        "from sklearn.impute import SimpleImputer\n",
        "from sklearn.ensemble import RandomForestRegressor\n",
        "from sklearn.model_selection import train_test_split\n",
        "from sklearn.preprocessing import MinMaxScaler\n"
      ]
    },
    {
      "cell_type": "code",
      "source": [
        "#Loading dataset for prediction and forecasting\n",
        "#Last updated at 9 december 2021\n",
        "#Data is downloaded from https://github.com/owid/covid-19-data/tree/master/public/data/\n",
        "covid_data_all = pd.read_csv('owid-covid-data.csv')"
      ],
      "metadata": {
        "id": "W5fDf3WfWqNb"
      },
      "execution_count": null,
      "outputs": []
    },
    {
      "cell_type": "code",
      "source": [
        "<script>\n",
        "    getData()\n",
        "\n",
        "    async function getData(){\n",
        "        const response = await fetch('covid_cases_norway.csv');\n",
        "        const data = await response.text();\n",
        "        console.log(data);\n",
        "\n",
        "        const rows = data.split('\\n');\n",
        "        rows.forEach(elt => {\n",
        "            const row = elt.split(',');\n",
        "            const day = row[0];\n",
        "            const cases = row[1];\n",
        "            console.log(day,cases);\n",
        "        });\n",
        "}\n",
        "    </script>"
      ],
      "metadata": {
        "id": "bGZMoOveUh7W"
      },
      "execution_count": null,
      "outputs": []
    },
    {
      "cell_type": "markdown",
      "source": [
        "# Random Forest Regressor Model for Forecasting\n",
        "Currently set to 7 days forcast. Every country in the world has its own forecast model. \n",
        "\n",
        "The features generated for the Random Forest to train on is: \n",
        "1. year\n",
        "2. month\n",
        "3. new_cases (Number of cases last known day)\n",
        "4. lag_new_cases (Number of cases three days prior)\n",
        "5. rolling_mean (Rolling mean over a window of size 3) \n",
        "\n",
        "The forecasting is \n",
        "1. new_cases_week (By adjusting the shift(x) the distance the model is forecasting can be adjusted. \n",
        "The accuracy of the model is good for providing a trend for most countries. Due to the way Random Forest and any forest algorithm is functioning some countried have less accurate results then other. "
      ],
      "metadata": {
        "id": "OcdVJdKwCeoi"
      }
    },
    {
      "cell_type": "code",
      "source": [
        "#Returns the specified country with all columns that have less then 10% NaN values\n",
        "def get_country(df,country):\n",
        "  current_country = df[df.get('location')==country]\n",
        "  a = percentage_of_null(current_country,10)\n",
        "  a.reset_index(level=0,drop=True)\n",
        "  return a"
      ],
      "metadata": {
        "id": "s8KwN9xH9OhE"
      },
      "execution_count": null,
      "outputs": []
    },
    {
      "cell_type": "code",
      "source": [
        "#Check how many NaN values the country has. \n",
        "#Discard if more then 10% is NaN values\n",
        "def percentage_of_null(country,percentage):\n",
        "  country_a = 100* country.isnull().sum()/len(country)\n",
        "  country_a = pd.DataFrame(country_a)\n",
        "  country_a.rename(columns={\"0\": \"A\"})\n",
        "  country_a = country_a[country_a.values<=percentage]  #Discard if more then 5% of data is missing\n",
        "  country_a = country_a.transpose()\n",
        "  indexes = country_a.columns\n",
        "  country = country[indexes]\n",
        "  return country\n"
      ],
      "metadata": {
        "id": "yTF5uT92XqGi"
      },
      "execution_count": null,
      "outputs": []
    },
    {
      "cell_type": "code",
      "source": [
        "#Function is called when training new RandomForest for forecasting for a new country\n",
        "def forecastCountry(country):\n",
        "  a = get_country(covid_data_all,country)\n",
        "  b = prepere_data(a)\n",
        "  train = b[0]\n",
        "  valid = b[1]\n",
        "  preditcion = trainRandomForest(valid, train)\n",
        "  yval = valid['new_cases_week']\n",
        "  yval = yval.reset_index(level=0,drop=True)\n",
        "  plt.plot(preditcion, label = \"Weekly Forecasting\")\n",
        "  plt.plot(yval, label = \"Actual\")\n",
        "  plt.legend()\n",
        "  plt.show()"
      ],
      "metadata": {
        "id": "IY2ucGyzQl4s"
      },
      "execution_count": null,
      "outputs": []
    },
    {
      "cell_type": "code",
      "source": [
        "#Create features for forecasting\n",
        "#Shift set to -7 as we are forecasting the trend a week ahead. \n",
        "#Add lag feature\n",
        "#Add diff feature \n",
        "def prepere_data(country):\n",
        "  features = ['new_cases','new_cases_smoothed','date','total_cases']\n",
        "  scale_features = ['new_cases','new_cases_smoothed','total_cases']\n",
        "  if features[0] and features[1] in country:\n",
        "\n",
        "    scaler = MinMaxScaler()\n",
        "    country[scale_features] = scaler.fit_transform(country[scale_features])\n",
        "\n",
        "    country_train = country[:-30]  #Divide into train and test set\n",
        "    country_valid = country[-30:]\n",
        "\n",
        "    country_valid.reset_index(level=0,drop=True)\n",
        "    country_train['date'] = pd.to_datetime(country_train['date'],format='%Y-%m-%d') \n",
        "    country_valid['date'] = pd.to_datetime(country_valid['date'],format='%Y-%m-%d')\n",
        "\n",
        "    country_train['year']=country_train['date'].dt.year \n",
        "    country_train['month']=country_train['date'].dt.month \n",
        "    country_train['day']=country_train['date'].dt.day\n",
        "    country_train['week_num']=country_train['date'].dt.dayofweek  \n",
        "\n",
        "    country_valid['year']=country_valid['date'].dt.year \n",
        "    country_valid['month']=country_valid['date'].dt.month \n",
        "    country_valid['day']=country_valid['date'].dt.day\n",
        "    country_valid['week_num']=country_valid['date'].dt.dayofweek  \n",
        "\n",
        "\n",
        "    country_train['rolling_mean'] = country_train['new_cases'].rolling(3,min_periods=1).mean()\n",
        "    country_valid['rolling_mean'] = country_valid['new_cases'].rolling(3,min_periods=1).mean()\n",
        "\n",
        "\n",
        "    country_train['new_cases_week'] = country_train['new_cases'].shift(-7)\n",
        "    country_valid['new_cases_week'] = country_valid['new_cases'].shift(-7)\n",
        "\n",
        "    country_valid = country_valid.dropna()\n",
        "    country_train = country_train.dropna() \n",
        "\n",
        "    #Create 4 fundemental features\n",
        "    #Lag1 \n",
        "    country_train['lag_new_cases'] = country_train['new_cases'].shift(3)\n",
        "    country_valid['lag_new_cases'] = country_valid['new_cases'].shift(3)\n",
        "\n",
        "    country_train['lag7_new_cases'] = country_train['new_cases'].shift(5)\n",
        "    country_valid['lag7_new_cases'] = country_valid['new_cases'].shift(5)\n",
        "\n",
        "    #Difference\n",
        "    country_train['diff_new_cases'] = country_train['new_cases'].diff(1)\n",
        "    country_valid['diff_new_cases'] = country_valid['new_cases'].diff(1)\n",
        "    \n",
        "    a = [country_train,country_valid]\n",
        "    return a\n",
        "  else:\n",
        "    return \"DataFrame does not contain enough data for forecasting\""
      ],
      "metadata": {
        "id": "xlGVQLgcJUx1"
      },
      "execution_count": null,
      "outputs": []
    },
    {
      "cell_type": "code",
      "source": [
        "#Training RandomForest model\n",
        "#Currently uses year, month, new_cases for that day, new cases 3 days prior and rolling mean window 3 to predict trend for the next 7 days. \n",
        "\n",
        "def trainRandomForest(country_valid, country_train): \n",
        "\n",
        "  features = ['year','new_cases','month','lag_new_cases','rolling_mean']#,'diff_new_cases']#,'diff_new_cases','month']\n",
        "  #next_week = country_valid[-2:]\n",
        "  imputer = SimpleImputer()\n",
        "  Xtr = country_train[features]\n",
        "\n",
        "  Xtr = imputer.fit_transform(Xtr)\n",
        "\n",
        "  ytr = country_train['new_cases_week']\n",
        "\n",
        "  model = RandomForestRegressor(n_estimators=1000,random_state=0,n_jobs=6,bootstrap=True)\n",
        "  model.fit(Xtr,ytr)\n",
        "\n",
        "  Xval = country_valid[features]  \n",
        "  Xval = imputer.transform(Xval)\n",
        "  yval = country_valid['new_cases_week']\n",
        "  ##Prediction Covid trend next week\n",
        "  ##If last value is greater then next week value we set the trend to be decreasing.\n",
        "  ##if last value is less then next weeks forecasted value we set the trend to be increasing.\n",
        "  ##if difference is minor we set trend to flat. \n",
        "  next_week = country_valid[-2:]\n",
        "  next_week = next_week[features]\n",
        "  next_week = imputer.transform(next_week)\n",
        "  covid_trend = model.predict(next_week)\n",
        "  p = model.predict(Xval)\n",
        "  \n",
        "  return p, covid_trend"
      ],
      "metadata": {
        "id": "HXRIJJM0ENmd"
      },
      "execution_count": null,
      "outputs": []
    },
    {
      "cell_type": "code",
      "source": [
        "def forecastCountryForest(country):\n",
        "  a = get_country(covid_data_all,country)\n",
        "  b = prepere_data(a)\n",
        "  train = b[0]\n",
        "  valid = b[1]\n",
        "  prediction, next_week = trainRandomForest(valid, train)\n",
        "  yval = valid['new_cases_week']\n",
        "  yval = yval.reset_index(level=0,drop=True)\n",
        "\n",
        "  plt.plot(prediction, label = \"Weekly Forecasting\") #Remove comment if wish to test the code. \n",
        "  plt.plot(yval, label = \"Actual\")\n",
        "  plt.legend()\n",
        "  plt.show()  \n",
        "  return next_week"
      ],
      "metadata": {
        "id": "WNJOFY7DUkku"
      },
      "execution_count": null,
      "outputs": []
    },
    {
      "cell_type": "code",
      "source": [
        "#country = \"Finland\"  \n",
        "#country = \"Sweden\" \n",
        "#country = \"Russia\"                          #Development purpose\n",
        "#country = \"Norway\"                          #Development purpose\n",
        "country = forecastCountryForest(\"Sri Lanka\")"
      ],
      "metadata": {
        "id": "P6_qsm5yzy2p"
      },
      "execution_count": null,
      "outputs": []
    },
    {
      "cell_type": "code",
      "source": [
        "  "
      ],
      "metadata": {
        "id": "4ACAu14jqL9m"
      },
      "execution_count": null,
      "outputs": []
    },
    {
      "cell_type": "code",
      "source": [
        "#List of countries thta have Data that we can forecast on\n",
        "item_counts=['Afghanistan', 'Africa', 'Albania', 'Algeria', 'Andorra', 'Angola',\n",
        "       'Antigua and Barbuda', 'Argentina', 'Armenia',\n",
        "       'Asia', 'Australia', 'Austria', 'Azerbaijan', 'Bahamas', \n",
        "       'Bahrain','Bangladesh', 'Barbados', 'Belarus', 'Belgium', \n",
        "       'Belize', 'Benin','Bolivia',\n",
        "       'Bosnia and Herzegovina', 'Botswana', 'Brazil',\n",
        "        'Brunei', 'Bulgaria', 'Burkina Faso',\n",
        "       'Burundi', 'Cameroon', 'Canada', 'Cape Verde','Chile',\n",
        "       'China', 'Colombia', 'Comoros', 'Congo',\n",
        "       'Costa Rica', \"Cote d'Ivoire\", 'Croatia', 'Cuba',\n",
        "       'Cyprus', 'Czechia', 'Democratic Republic of Congo', \n",
        "       'Denmark','Djibouti', 'Egypt',\n",
        "       'El Salvador', 'Equatorial Guinea', 'Estonia',\n",
        "       'Eswatini', 'Ethiopia', 'Europe', 'European Union',\n",
        "        'Finland', 'France',\n",
        "        'Gabon', 'Gambia', 'Georgia', 'Germany', 'Greece',\n",
        "       'Haiti',  'Honduras', 'Hong Kong', 'Hungary',\n",
        "       'Iceland', 'India', 'Indonesia', 'International', 'Iran', \n",
        "       'Iraq','Ireland', 'Israel', 'Italy', 'Jamaica', \n",
        "       'Japan', 'Jordan', 'Kazakhstan', 'Kenya',  'Kosovo',\n",
        "       'Kuwait', 'Kyrgyzstan',  'Latvia', 'Lebanon', 'Lesotho',\n",
        "       'Liberia', 'Libya', 'Liechtenstein', 'Lithuania',\n",
        "       'Luxembourg','Madagascar',\n",
        "       'Malawi', 'Malaysia', 'Maldives', 'Mali', 'Malta',\n",
        "        'Moldova', 'Monaco',\n",
        "       'Montenegro', 'Morocco','Netherlands',\n",
        "       'New Zealand', 'Nicaragua', 'Niger', 'Nigeria',\n",
        "       'North America', 'North Macedonia', 'Norway',\n",
        "       'Oceania', 'Oman', 'Pakistan',  'Palestine', 'Panama',\n",
        "        'Paraguay', 'Philippines',\n",
        "       'Poland', 'Portugal', 'Romania', 'Russia',\n",
        "         'San Marino','Saudi Arabia', 'Senegal', 'Serbia',\n",
        "       'Sierra Leone', 'Singapore', 'Slovakia', 'Slovenia', \n",
        "       'Somalia', 'South Africa', 'South America',\n",
        "        'South Sudan', 'Spain', 'Sri Lanka', 'Sudan',\n",
        "       'Suriname', 'Sweden', 'Switzerland', 'Syria', 'Taiwan',\n",
        "       'Tajikistan', 'Tanzania', 'Thailand', 'Togo',\n",
        "        'Trinidad and Tobago', 'Tunisia', 'Turkey',\n",
        "       'Ukraine', 'United Arab Emirates', 'United Kingdom',\n",
        "       'United States', 'Uruguay', 'Uzbekistan',\n",
        "        'Venezuela','Yemen', 'Zambia', 'Zimbabwe']"
      ],
      "metadata": {
        "id": "UU-lKz4A8f9-"
      },
      "execution_count": null,
      "outputs": []
    },
    {
      "cell_type": "code",
      "source": [
        "#Initilize the randomForest Training. \n",
        "\n",
        "countryy = \"United Kingdom\"\n",
        "forecast = forecastCountryForest(countryy)\n",
        "b = forecast[1] - forecast[0]\n",
        "b = b*10\n",
        "print(b)\n",
        "if(b>=0.1):\n",
        "  data = {'United Kingdom':[\"Increasing Trend\"]}\n",
        "  forecast_model = pd.DataFrame(data)\n",
        "\n",
        "if(b<=-0.1):\n",
        "  data = {'United Kingdom':[\"Decreasing Trend\"]}\n",
        "  forecast_model = pd.DataFrame(data)\n",
        "\n",
        "if(b<0.1 and b>-0.1):\n",
        "  data = {'United Kingdom':[\"Flat Trend\"]}\n",
        "  forecast_model = pd.DataFrame(data)\n"
      ],
      "metadata": {
        "id": "D3iZ4wgtDD_y"
      },
      "execution_count": null,
      "outputs": []
    },
    {
      "cell_type": "code",
      "source": [
        "#Train randomForest model for every country\n",
        "for country in item_counts:\n",
        "  print(country)\n",
        "  country_true = country\n",
        "  forecast = forecastCountryForest(country)\n",
        "  b = forecast[1] - forecast[0]\n",
        "  b = b*10\n",
        " \n",
        "  if(b>=0.1):\n",
        "    forecast_model[country_true] = \"Increasing Trend\"\n",
        "\n",
        "  if(b<=-0.1):\n",
        "    forecast_model[country_true] = \"Decreasing Trend\"\n",
        "\n",
        "  if(b<0.1 and b>-0.1):\n",
        "    forecast_model[country_true] = \"Flat Trend\""
      ],
      "metadata": {
        "id": "flWoTRnO9iK4"
      },
      "execution_count": null,
      "outputs": []
    },
    {
      "cell_type": "code",
      "source": [
        "#forecast_model2 = forecast_model.transpose()\n",
        "#forecast_models = forecast_model.drop([1, 1])\n",
        "#forecast_models = forecast_model.transpose()\n",
        "#forecast_models.columns = ['Covid-19 Trend']"
      ],
      "metadata": {
        "id": "l0XYidkb_L9j"
      },
      "execution_count": null,
      "outputs": []
    },
    {
      "cell_type": "code",
      "source": [
        "#forecast_models.to_excel('Forecast_Weekly.xlsx', index=True)"
      ],
      "metadata": {
        "id": "QKSMNSn75Vf3"
      },
      "execution_count": null,
      "outputs": []
    },
    {
      "cell_type": "markdown",
      "source": [
        "# Lasso Regression for new cases for all countries in the world\n",
        "Fitted and trained a Lasso regression for all countries. Uses two sets of features due to some countried have more detailed dataset compared to others. THis was done as it was not desired to just disreagard countried with less features. \n",
        "\n",
        "But we still had to discard some countried who had not even the most basic features. "
      ],
      "metadata": {
        "id": "rD2yWlQJCoVy"
      }
    },
    {
      "cell_type": "code",
      "source": [
        "from sklearn.linear_model import Lasso\n",
        "def lasso_regression(data,true,false):\n",
        "\n",
        "  if(false==True):\n",
        "    if(true==True):\n",
        "      features = ['total_deaths','new_tests','new_deaths','total_cases']\n",
        "    if(true==False):\n",
        "      features = ['total_deaths','new_deaths','total_cases']\n",
        "\n",
        "    X = data[features]\n",
        "    y = data[['new_cases']]\n",
        "    X_train, X_test, y_train, y_test = train_test_split(X, y, test_size=0.30, random_state=42)\n",
        "\n",
        "    min_max_scaler = MinMaxScaler(feature_range = (0,1))\n",
        "    xtrain_ = min_max_scaler.fit_transform(X_train)\n",
        "    xtest_ = min_max_scaler.fit_transform(X_test)\n",
        "    X_ = min_max_scaler.fit_transform(X)\n",
        "  # x_train = train\n",
        "  # y_train = valid\n",
        "    model = Lasso(alpha=0.1,normalize=True,max_iter=5000)\n",
        "    model.fit(xtrain_,y_train)\n",
        "    prediction = model.predict(xtest_)\n",
        "    predict = model.predict(X_)\n",
        "\n",
        "    y_test = y_test.reset_index(level=0,drop=True)\n",
        "    y = y.reset_index(level=0,drop=True)\n",
        "    #plt.plot(predict, label = \"Prediction Lasso\")\n",
        "    #plt.plot(y, label = \"Actual\")\n",
        "    #plt.legend()\n",
        "    #plt.show()\n",
        "\n",
        "  #  plt.plot(prediction, label = \"Prediction Lasso\")\n",
        "  #  plt.plot(y_test, label = \"Actual\")\n",
        "  #  plt.legend()\n",
        "  #  plt.show()\n",
        "  \n",
        "    return y,predict\n"
      ],
      "metadata": {
        "id": "pbrurIaFbM_B"
      },
      "execution_count": null,
      "outputs": []
    },
    {
      "cell_type": "code",
      "source": [
        "from sklearn.linear_model import Ridge\n",
        "def ridge_regression(data,true,false):\n",
        "  if(false==True):\n",
        "    if(true==True):\n",
        "      features = ['total_deaths','new_tests','new_deaths','total_cases']\n",
        "    if(true==False):\n",
        "      features = ['total_deaths','new_deaths','total_cases']\n",
        "\n",
        "    X = data[features]\n",
        "    y = data[['new_cases']]\n",
        "    X_train, X_test, y_train, y_test = train_test_split(X, y, test_size=0.30, random_state=42)\n",
        "\n",
        "    min_max_scaler = MinMaxScaler(feature_range = (0,1))\n",
        "    xtrain_ = min_max_scaler.fit_transform(X_train)\n",
        "    xtest_ = min_max_scaler.fit_transform(X_test)\n",
        "    X_ = min_max_scaler.fit_transform(X)\n",
        "  # x_train = train\n",
        "  # y_train = valid\n",
        "    model = Ridge(alpha=0.1,normalize=True,max_iter=10000)\n",
        "    model.fit(xtrain_,y_train)\n",
        "    prediction = model.predict(xtest_)\n",
        "    predict = model.predict(X_)\n",
        "    y_test = y_test.reset_index(level=0,drop=True)\n",
        "    y = y.reset_index(level=0,drop=True)\n",
        "    #plt.plot(predict, label = \"Prediction Ridge\")\n",
        "    #plt.plot(y, label = \"Actual\")\n",
        "    #plt.legend()\n",
        "    #plt.show()\n",
        "    #plt.plot(prediction, label = \"Prediction Ridge\")\n",
        "    #plt.plot(y_test, label = \"Actual\")\n",
        "    #plt.legend()\n",
        "    #plt.show()\n",
        "    return predict\n"
      ],
      "metadata": {
        "id": "azzOMpMRhrkb"
      },
      "execution_count": null,
      "outputs": []
    },
    {
      "cell_type": "code",
      "source": [
        "def predictCountryLasso(country):\n",
        "  features = ['new_cases','total_deaths','new_tests','new_deaths','total_cases']\n",
        "  a = get_country(covid_data_all,country)\n",
        "  if ('new_tests' in a and 'new_deaths' in a and 'total_deaths' in a):\n",
        "    a = a[features]\n",
        "    a = a.dropna()\n",
        "    return lasso_regression(a,True,True)\n",
        "  if ('new_cases' in a and 'new_deaths' in a and 'total_deaths' in a):\n",
        "    features = ['new_cases','total_deaths','new_deaths','total_cases']\n",
        "    a = a[features]\n",
        "    a = a.dropna()\n",
        "    return lasso_regression(a,False,True)\n",
        "  else:\n",
        "    return ridge_regression(a,False,False)"
      ],
      "metadata": {
        "id": "J09XHPZNbNBY"
      },
      "execution_count": null,
      "outputs": []
    },
    {
      "cell_type": "code",
      "source": [
        "def predictCountryRidge(country):\n",
        "  features = ['new_cases','total_deaths','new_tests','new_deaths','total_cases']\n",
        "  a = get_country(covid_data_all,country)\n",
        "  if ('new_tests' in a and 'new_deaths' in a and 'total_deaths' in a):\n",
        "    a = a[features]\n",
        "    a = a.dropna()\n",
        "    return ridge_regression(a,True,True)\n",
        "  if ('new_cases' in a and 'new_deaths' in a and 'total_deaths' in a):\n",
        "    features = ['new_cases','total_deaths','new_deaths','total_cases']\n",
        "    a = a[features]\n",
        "    a = a.dropna()\n",
        "    return ridge_regression(a,False,True)\n",
        "  else:\n",
        "    return ridge_regression(a,False,False)\n"
      ],
      "metadata": {
        "id": "yawsnM7Mhq8b"
      },
      "execution_count": null,
      "outputs": []
    },
    {
      "cell_type": "code",
      "source": [
        "####LASSO\n",
        "####RIDGE"
      ],
      "metadata": {
        "id": "u0sRkEfmbNEC"
      },
      "execution_count": null,
      "outputs": []
    },
    {
      "cell_type": "code",
      "source": [
        "#List of countried that have enough data for our Lasso regresion model. \n",
        "item_counts = covid_data_all.location.unique()\n",
        "item_counts=['Afghanistan', 'Africa', 'Albania', 'Algeria', 'Andorra', 'Angola',\n",
        "       'Antigua and Barbuda', 'Argentina', 'Armenia',\n",
        "       'Asia', 'Australia', 'Austria', 'Azerbaijan', 'Bahamas', 'Bahrain',\n",
        "       'Bangladesh', 'Barbados', 'Belarus', 'Belgium', 'Belize', 'Benin'\n",
        "       ,'Bolivia','Bosnia and Herzegovina', 'Botswana', 'Brazil',\n",
        "        'Brunei', 'Bulgaria', 'Burkina Faso',\n",
        "       'Burundi', 'Cameroon', 'Canada', 'Cape Verde','Chile',\n",
        "       'China', 'Colombia', 'Comoros', 'Congo',\n",
        "       'Costa Rica', \"Cote d'Ivoire\", 'Croatia', 'Cuba',\n",
        "       'Cyprus', 'Czechia', 'Democratic Republic of Congo', 'Denmark',\n",
        "       'Djibouti', 'Dominican Republic', 'Ecuador', 'Egypt',\n",
        "       'El Salvador', 'Equatorial Guinea', 'Estonia',\n",
        "       'Eswatini', 'Ethiopia', 'Europe', 'European Union',\n",
        "        'Finland', 'France',\n",
        "        'Gabon', 'Gambia', 'Georgia', 'Germany',\n",
        "       'Ghana', 'Greece','Haiti',  'Honduras', 'Hong Kong', 'Hungary',\n",
        "       'Iceland', 'India', 'Indonesia', 'International', 'Iran', 'Iraq',\n",
        "       'Ireland', 'Israel', 'Italy', 'Jamaica', 'Japan', \n",
        "       'Jordan', 'Kazakhstan', 'Kenya',  'Kosovo',\n",
        "       'Kuwait', 'Kyrgyzstan',  'Latvia', 'Lebanon', 'Lesotho',\n",
        "       'Liberia', 'Libya', 'Liechtenstein', 'Lithuania',\n",
        "       'Luxembourg','Madagascar',\n",
        "       'Malawi', 'Malaysia', 'Maldives', 'Mali', 'Malta',\n",
        "        'Moldova', 'Monaco','Montenegro', 'Morocco','Netherlands',\n",
        "       'New Zealand', 'Nicaragua', 'Niger', 'Nigeria',\n",
        "       'North America', 'North Macedonia', 'Norway',\n",
        "       'Oceania', 'Oman', 'Pakistan',  'Palestine', 'Panama',\n",
        "        'Paraguay', 'Peru', 'Philippines',\n",
        "       'Poland', 'Portugal', 'Qatar', 'Romania', 'Russia',\n",
        "         'San Marino','Saudi Arabia', 'Senegal', 'Serbia',\n",
        "       'Sierra Leone', 'Singapore', 'Slovakia', 'Slovenia', \n",
        "       'Somalia', 'South Africa', 'South America',\n",
        "       'South Korea', 'South Sudan', 'Spain', 'Sri Lanka', 'Sudan',\n",
        "       'Suriname', 'Sweden', 'Switzerland', 'Syria', 'Taiwan',\n",
        "       'Tajikistan', 'Tanzania', 'Thailand', 'Togo',\n",
        "        'Trinidad and Tobago', 'Tunisia', 'Turkey',\n",
        "       'Ukraine', 'United Arab Emirates', 'United Kingdom',\n",
        "       'United States', 'Uruguay', 'Uzbekistan',\n",
        "        'Venezuela','Yemen', 'Zambia', 'Zimbabwe']"
      ],
      "metadata": {
        "id": "3S3JK_E5DLdE"
      },
      "execution_count": null,
      "outputs": []
    },
    {
      "cell_type": "code",
      "source": [
        "#Fitting the Lasso regression model\n",
        "df_ridge = pd.DataFrame()\n",
        "country_pd = covid_data_all.location.unique()\n",
        "\n",
        "#country = \"Denmark\"\n",
        "countryy = \"Norway\"\n",
        "country_new_case = countryy+\"_new_cases\"\n",
        "y,predict = predictCountryLasso(countryy)\n",
        "lasso_model = pd.DataFrame(predict)\n",
        "\n",
        "for country in item_counts:\n",
        "  print(country)\n",
        "  country_new_case = country+\"_new_cases\"\n",
        "  y,predict = predictCountryLasso(country)\n",
        "  lasso_model[country] = pd.DataFrame(predict)\n",
        "  lasso_model[country_new_case] = pd.DataFrame(y)\n",
        "#ridge_model[country]  = pd.DataFrame(predictCountryRidge(country))\n",
        "lasso_model = lasso_model.iloc[: , 1:]"
      ],
      "metadata": {
        "id": "AXBtHlc2aXiP"
      },
      "execution_count": null,
      "outputs": []
    },
    {
      "cell_type": "code",
      "source": [
        "#Saving the models output. \n",
        "#lasso_model.to_excel('Latest_lasso.xlsx', index=False)\n",
        "#forecast_model.to_excel('FOrecast_latest.xlsx', index=False)\n"
      ],
      "metadata": {
        "id": "3Wa4UNeGsGQO"
      },
      "execution_count": null,
      "outputs": []
    }
  ]
}